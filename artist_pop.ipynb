{
 "cells": [
  {
   "cell_type": "markdown",
   "metadata": {},
   "source": [
    "Creates .csv file that assigns a unique artist id to all the artists."
   ]
  },
  {
   "cell_type": "code",
   "execution_count": null,
   "metadata": {},
   "outputs": [],
   "source": [
    "import pandas as pd\n",
    "import numpy as np"
   ]
  },
  {
   "cell_type": "code",
   "execution_count": null,
   "metadata": {},
   "outputs": [],
   "source": [
    "artist_weeks = {}\n",
    "unique_id = 1\n",
    "for year in range(1980, 2022):\n",
    "    path1 = \"with_number_of_weeks/years/\" + str(year) + \".csv\"\n",
    "    path2 = \"random_sample/\" + str(year) + \".csv\"\n",
    "    df = pd.read_csv(path1)\n",
    "    df2 = pd.read_csv(path2)\n",
    "    df = df.append(df2)\n",
    "    arr = df['spotify_artist'].to_numpy().astype(str)\n",
    "    weeks = df['weeks'].to_numpy(dtype=int)\n",
    "    arr = np.char.rstrip(arr, \"']\")\n",
    "    arr = np.char.lstrip(arr, \"['\")\n",
    "    arr = np.char.split(arr, \"', '\")\n",
    "    for i, a_list in enumerate(arr):\n",
    "        for artist in a_list:\n",
    "            if artist not in artist_weeks:\n",
    "                artist_weeks[artist] = unique_id\n",
    "                unique_id += 1\n"
   ]
  },
  {
   "cell_type": "code",
   "execution_count": null,
   "metadata": {},
   "outputs": [],
   "source": [
    "output = pd.DataFrame(list(artist_weeks.items()))\n",
    "output.columns = ['artist', 'artist_id']\n",
    "output.to_csv('artist_weeks_data.csv')"
   ]
  }
 ],
 "metadata": {
  "interpreter": {
   "hash": "703e297788ae86296449f676e0241f89b67adc670f29c8299b77ab5d7193a91f"
  },
  "kernelspec": {
   "display_name": "Python 3.7.11 64-bit ('music': conda)",
   "language": "python",
   "name": "python3"
  },
  "language_info": {
   "codemirror_mode": {
    "name": "ipython",
    "version": 3
   },
   "file_extension": ".py",
   "mimetype": "text/x-python",
   "name": "python",
   "nbconvert_exporter": "python",
   "pygments_lexer": "ipython3",
   "version": "3.7.11"
  },
  "orig_nbformat": 4
 },
 "nbformat": 4,
 "nbformat_minor": 2
}
