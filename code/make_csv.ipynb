{
 "cells": [
  {
   "cell_type": "code",
   "execution_count": null,
   "metadata": {},
   "outputs": [],
   "source": [
    "import pandas as pd\n",
    "import numpy as np\n",
    "import matplotlib.pyplot as plt\n"
   ]
  },
  {
   "cell_type": "markdown",
   "metadata": {},
   "source": [
    "Make csv files with only the necessary Columns for ML"
   ]
  },
  {
   "cell_type": "code",
   "execution_count": null,
   "metadata": {},
   "outputs": [],
   "source": [
    "for year in range(1980, 2022):\n",
    "    path = \"csv_files/years/\" + str(year) + \".csv\"\n",
    "\n",
    "    df = pd.read_csv(path)\n",
    "    artist_id = pd.read_csv('csv_files/artist_id.csv')\n",
    "    df2 = pd.read_csv(f'csv_files/random_sample/{year}.csv')\n",
    "    df = df.append(df2)\n",
    "\n",
    "    keys = list(artist_id['artist'])\n",
    "    values = list(artist_id['artist_id'])\n",
    "    artist_id = dict(zip(keys, values))\n",
    "\n",
    "    artist = []\n",
    "    arr = df['spotify_artist'].to_numpy().astype(str)\n",
    "    arr = np.char.rstrip(arr, \"']\")\n",
    "    arr = np.char.lstrip(arr, \"['\")\n",
    "    arr = np.char.split(arr, \"', '\")\n",
    "    for i, a_list in enumerate(arr):\n",
    "        if a_list[0] in artist_id:\n",
    "            artist.append(artist_id[a_list[0]])\n",
    "        else:\n",
    "            artist_id[a_list[0]] = len(artist_id) + 1\n",
    "            artist.append(artist_id[a_list[0]])\n",
    "    df['spotify_id'] = artist\n",
    "\n",
    "    df = df[['spotify_id', 'danceability', 'energy', 'key' , 'loudness', 'mode', 'speechiness', 'acousticness', 'instrumentalness', 'liveness', 'valence', 'tempo', 'duration_ms', 'weeks']]\n",
    "    df.columns = ['artist_id', 'danceability', 'energy', 'key' , 'loudness', 'mode', 'speechiness', 'acousticness', 'instrumentalness', 'liveness', 'valence', 'tempo', 'duration_ms', 'weeks']\n",
    "    df.to_csv(\"csv_files/model_training/\" + str(year) + \".csv\")"
   ]
  },
  {
   "cell_type": "markdown",
   "metadata": {},
   "source": [
    "CSV file for visualization"
   ]
  },
  {
   "cell_type": "code",
   "execution_count": null,
   "metadata": {},
   "outputs": [],
   "source": [
    "mdf = pd.DataFrame(columns= ['year', 'danceability', 'energy', 'key' , 'loudness', 'mode', 'speechiness', 'acousticness', 'instrumentalness', 'liveness', 'valence', 'tempo', 'duration_ms'])\n",
    "\n",
    "for year in range(1980, 2022):\n",
    "\n",
    "    path = f\"csv_files/random_sample/{year}.csv\"\n",
    "    df = pd.read_csv(path).iloc[:, 7:-2]\n",
    "    mdf = mdf.append(df.mean(), ignore_index=True)\n",
    "mdf['year'] = np.arange(1980, 2022).astype(int)\n",
    "\n"
   ]
  },
  {
   "cell_type": "markdown",
   "metadata": {},
   "source": [
    "Save CSV file"
   ]
  },
  {
   "cell_type": "code",
   "execution_count": null,
   "metadata": {},
   "outputs": [],
   "source": [
    "mdf.to_csv('csv_files/plot_data_unpopular.csv')"
   ]
  },
  {
   "cell_type": "markdown",
   "metadata": {},
   "source": [
    "Read csv files to create figures"
   ]
  },
  {
   "cell_type": "code",
   "execution_count": null,
   "metadata": {},
   "outputs": [],
   "source": [
    "df = pd.read_csv('csv_files/plot_data.csv').iloc[:, 1:]\n",
    "df2 = pd.read_csv('csv_files/plot_data_unpopular.csv').iloc[:, 1:]\n",
    "x = df['year']\n",
    "y1 = df.iloc[:, 4]\n",
    "y2 = df2.iloc[:, 4]\n",
    "# y2 = df.iloc[:, -2]\n",
    "# y3 = df.iloc[:, -1]\n",
    "\n"
   ]
  },
  {
   "cell_type": "code",
   "execution_count": null,
   "metadata": {},
   "outputs": [],
   "source": [
    "plt.plot(x, y1, dashes=[2,2])\n",
    "plt.scatter(x, y1, label = '_nolegend_')\n",
    "\n",
    "plt.plot(x, y2, dashes=[1,1])\n",
    "plt.scatter(x, y2, label = '_nolegend_')\n",
    "\n",
    "# plt.plot(x, y3, dashes=[1,1])\n",
    "# plt.scatter(x, y3, label = '_nolegend_')\n",
    "\n",
    "# plt.plot(x, y2)\n",
    "# plt.plot(x, y3)\n",
    "# plt.legend(['popular','unpopular','average'])\n",
    "\n",
    "plt.rcParams['figure.dpi'] = 200\n",
    "# plt.title('ML prediction over the years')\n",
    "# plt.ylabel('Danceability')\n",
    "# plt.xlabel('year')\n"
   ]
  },
  {
   "cell_type": "markdown",
   "metadata": {},
   "source": [
    "Create figures for feature importances"
   ]
  },
  {
   "cell_type": "code",
   "execution_count": null,
   "metadata": {},
   "outputs": [],
   "source": [
    "df = pd.read_csv('csv_files/f_importances.csv').iloc[:, 1:]\n",
    "df.mean()\n",
    "df = df[['artist_id', 'acousticness', 'duration_ms', 'loudness', 'danceability']]"
   ]
  },
  {
   "cell_type": "code",
   "execution_count": null,
   "metadata": {},
   "outputs": [],
   "source": [
    "y1 = df.iloc[:,0]\n",
    "y2 = df.iloc[:,1]\n",
    "y3 = df.iloc[:,2]\n",
    "y4 = df.iloc[:,3]\n",
    "y5 = df.iloc[:,4] \n"
   ]
  },
  {
   "cell_type": "code",
   "execution_count": null,
   "metadata": {},
   "outputs": [],
   "source": [
    "plt.plot(x, y1)\n",
    "# plt.scatter(x, y1, label = '_nolegend_')\n",
    "\n",
    "plt.plot(x, y2)\n",
    "# plt.scatter(x, y2, label = '_nolegend_')\n",
    "\n",
    "plt.plot(x, y3)\n",
    "# plt.scatter(x, y3, label = '_nolegend_')\n",
    "\n",
    "plt.plot(x, y4)\n",
    "# plt.scatter(x, y4, label = '_nolegend_')\n",
    "\n",
    "plt.plot(x, y5)\n",
    "# plt.scatter(x, y5, label = '_nolegend_')\n",
    "\n",
    "plt.legend(['artist_id', 'acousticness', 'duration_ms', 'loudness', 'danceability'])\n"
   ]
  },
  {
   "cell_type": "code",
   "execution_count": null,
   "metadata": {},
   "outputs": [],
   "source": []
  }
 ],
 "metadata": {
  "interpreter": {
   "hash": "703e297788ae86296449f676e0241f89b67adc670f29c8299b77ab5d7193a91f"
  },
  "kernelspec": {
   "display_name": "Python 3.7.11 64-bit ('music': conda)",
   "language": "python",
   "name": "python3"
  },
  "language_info": {
   "codemirror_mode": {
    "name": "ipython",
    "version": 3
   },
   "file_extension": ".py",
   "mimetype": "text/x-python",
   "name": "python",
   "nbconvert_exporter": "python",
   "pygments_lexer": "ipython3",
   "version": "3.7.11"
  },
  "orig_nbformat": 4
 },
 "nbformat": 4,
 "nbformat_minor": 2
}
